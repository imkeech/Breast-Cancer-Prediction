{
 "cells": [
  {
   "cell_type": "markdown",
   "id": "7f5dec90",
   "metadata": {},
   "source": [
    "# ANN based classification of breast cancer"
   ]
  },
  {
   "cell_type": "code",
   "execution_count": 1,
   "id": "2b915ef2",
   "metadata": {},
   "outputs": [],
   "source": [
    "import numpy as np\n",
    "import pandas as pd"
   ]
  },
  {
   "cell_type": "code",
   "execution_count": 2,
   "id": "847c15f1",
   "metadata": {},
   "outputs": [],
   "source": [
    "data = pd.read_csv(\"C:/Users/User/Downloads/breast+cancer+wisconsin+diagnostic/wdbc.data\")"
   ]
  },
  {
   "cell_type": "code",
   "execution_count": 3,
   "id": "61e01c34",
   "metadata": {},
   "outputs": [],
   "source": [
    "data.columns = ['ID', 'Diagnosis', 'Mean Radius', 'Mean Texture', 'Mean Perimeter', 'Mean Area', 'Mean Smoothness', 'Mean Compactness', 'Mean Concavity', 'Mean Concave Points', 'Mean Symmetry', 'Mean Fractal Dimension', 'SError Radius', 'SError Texture', 'SError Perimeter', 'SError Area', 'SError Smoothness', 'SError Compactness', 'SError Concavity', 'SError Concave Points', 'SError Symmetry', 'SError Fractal Dimension', 'largest Radius', 'largest Texture', 'largest Perimeter', 'largest Area', 'largest Smoothness', 'largest Compactness', 'largest Concavity', 'largest Concave Points', 'largest Symmetry', 'largest Fractal Dimension']"
   ]
  },
  {
   "cell_type": "code",
   "execution_count": 4,
   "id": "abff57a0",
   "metadata": {
    "scrolled": false
   },
   "outputs": [
    {
     "data": {
      "text/html": [
       "<div>\n",
       "<style scoped>\n",
       "    .dataframe tbody tr th:only-of-type {\n",
       "        vertical-align: middle;\n",
       "    }\n",
       "\n",
       "    .dataframe tbody tr th {\n",
       "        vertical-align: top;\n",
       "    }\n",
       "\n",
       "    .dataframe thead th {\n",
       "        text-align: right;\n",
       "    }\n",
       "</style>\n",
       "<table border=\"1\" class=\"dataframe\">\n",
       "  <thead>\n",
       "    <tr style=\"text-align: right;\">\n",
       "      <th></th>\n",
       "      <th>ID</th>\n",
       "      <th>Diagnosis</th>\n",
       "      <th>Mean Radius</th>\n",
       "      <th>Mean Texture</th>\n",
       "      <th>Mean Perimeter</th>\n",
       "      <th>Mean Area</th>\n",
       "      <th>Mean Smoothness</th>\n",
       "      <th>Mean Compactness</th>\n",
       "      <th>Mean Concavity</th>\n",
       "      <th>Mean Concave Points</th>\n",
       "      <th>...</th>\n",
       "      <th>largest Radius</th>\n",
       "      <th>largest Texture</th>\n",
       "      <th>largest Perimeter</th>\n",
       "      <th>largest Area</th>\n",
       "      <th>largest Smoothness</th>\n",
       "      <th>largest Compactness</th>\n",
       "      <th>largest Concavity</th>\n",
       "      <th>largest Concave Points</th>\n",
       "      <th>largest Symmetry</th>\n",
       "      <th>largest Fractal Dimension</th>\n",
       "    </tr>\n",
       "  </thead>\n",
       "  <tbody>\n",
       "    <tr>\n",
       "      <th>0</th>\n",
       "      <td>842517</td>\n",
       "      <td>M</td>\n",
       "      <td>20.57</td>\n",
       "      <td>17.77</td>\n",
       "      <td>132.90</td>\n",
       "      <td>1326.0</td>\n",
       "      <td>0.08474</td>\n",
       "      <td>0.07864</td>\n",
       "      <td>0.0869</td>\n",
       "      <td>0.07017</td>\n",
       "      <td>...</td>\n",
       "      <td>24.99</td>\n",
       "      <td>23.41</td>\n",
       "      <td>158.80</td>\n",
       "      <td>1956.0</td>\n",
       "      <td>0.1238</td>\n",
       "      <td>0.1866</td>\n",
       "      <td>0.2416</td>\n",
       "      <td>0.1860</td>\n",
       "      <td>0.2750</td>\n",
       "      <td>0.08902</td>\n",
       "    </tr>\n",
       "    <tr>\n",
       "      <th>1</th>\n",
       "      <td>84300903</td>\n",
       "      <td>M</td>\n",
       "      <td>19.69</td>\n",
       "      <td>21.25</td>\n",
       "      <td>130.00</td>\n",
       "      <td>1203.0</td>\n",
       "      <td>0.10960</td>\n",
       "      <td>0.15990</td>\n",
       "      <td>0.1974</td>\n",
       "      <td>0.12790</td>\n",
       "      <td>...</td>\n",
       "      <td>23.57</td>\n",
       "      <td>25.53</td>\n",
       "      <td>152.50</td>\n",
       "      <td>1709.0</td>\n",
       "      <td>0.1444</td>\n",
       "      <td>0.4245</td>\n",
       "      <td>0.4504</td>\n",
       "      <td>0.2430</td>\n",
       "      <td>0.3613</td>\n",
       "      <td>0.08758</td>\n",
       "    </tr>\n",
       "    <tr>\n",
       "      <th>2</th>\n",
       "      <td>84348301</td>\n",
       "      <td>M</td>\n",
       "      <td>11.42</td>\n",
       "      <td>20.38</td>\n",
       "      <td>77.58</td>\n",
       "      <td>386.1</td>\n",
       "      <td>0.14250</td>\n",
       "      <td>0.28390</td>\n",
       "      <td>0.2414</td>\n",
       "      <td>0.10520</td>\n",
       "      <td>...</td>\n",
       "      <td>14.91</td>\n",
       "      <td>26.50</td>\n",
       "      <td>98.87</td>\n",
       "      <td>567.7</td>\n",
       "      <td>0.2098</td>\n",
       "      <td>0.8663</td>\n",
       "      <td>0.6869</td>\n",
       "      <td>0.2575</td>\n",
       "      <td>0.6638</td>\n",
       "      <td>0.17300</td>\n",
       "    </tr>\n",
       "    <tr>\n",
       "      <th>3</th>\n",
       "      <td>84358402</td>\n",
       "      <td>M</td>\n",
       "      <td>20.29</td>\n",
       "      <td>14.34</td>\n",
       "      <td>135.10</td>\n",
       "      <td>1297.0</td>\n",
       "      <td>0.10030</td>\n",
       "      <td>0.13280</td>\n",
       "      <td>0.1980</td>\n",
       "      <td>0.10430</td>\n",
       "      <td>...</td>\n",
       "      <td>22.54</td>\n",
       "      <td>16.67</td>\n",
       "      <td>152.20</td>\n",
       "      <td>1575.0</td>\n",
       "      <td>0.1374</td>\n",
       "      <td>0.2050</td>\n",
       "      <td>0.4000</td>\n",
       "      <td>0.1625</td>\n",
       "      <td>0.2364</td>\n",
       "      <td>0.07678</td>\n",
       "    </tr>\n",
       "    <tr>\n",
       "      <th>4</th>\n",
       "      <td>843786</td>\n",
       "      <td>M</td>\n",
       "      <td>12.45</td>\n",
       "      <td>15.70</td>\n",
       "      <td>82.57</td>\n",
       "      <td>477.1</td>\n",
       "      <td>0.12780</td>\n",
       "      <td>0.17000</td>\n",
       "      <td>0.1578</td>\n",
       "      <td>0.08089</td>\n",
       "      <td>...</td>\n",
       "      <td>15.47</td>\n",
       "      <td>23.75</td>\n",
       "      <td>103.40</td>\n",
       "      <td>741.6</td>\n",
       "      <td>0.1791</td>\n",
       "      <td>0.5249</td>\n",
       "      <td>0.5355</td>\n",
       "      <td>0.1741</td>\n",
       "      <td>0.3985</td>\n",
       "      <td>0.12440</td>\n",
       "    </tr>\n",
       "  </tbody>\n",
       "</table>\n",
       "<p>5 rows × 32 columns</p>\n",
       "</div>"
      ],
      "text/plain": [
       "         ID Diagnosis  Mean Radius  Mean Texture  Mean Perimeter  Mean Area  \\\n",
       "0    842517         M        20.57         17.77          132.90     1326.0   \n",
       "1  84300903         M        19.69         21.25          130.00     1203.0   \n",
       "2  84348301         M        11.42         20.38           77.58      386.1   \n",
       "3  84358402         M        20.29         14.34          135.10     1297.0   \n",
       "4    843786         M        12.45         15.70           82.57      477.1   \n",
       "\n",
       "   Mean Smoothness  Mean Compactness  Mean Concavity  Mean Concave Points  \\\n",
       "0          0.08474           0.07864          0.0869              0.07017   \n",
       "1          0.10960           0.15990          0.1974              0.12790   \n",
       "2          0.14250           0.28390          0.2414              0.10520   \n",
       "3          0.10030           0.13280          0.1980              0.10430   \n",
       "4          0.12780           0.17000          0.1578              0.08089   \n",
       "\n",
       "   ...  largest Radius  largest Texture  largest Perimeter  largest Area  \\\n",
       "0  ...           24.99            23.41             158.80        1956.0   \n",
       "1  ...           23.57            25.53             152.50        1709.0   \n",
       "2  ...           14.91            26.50              98.87         567.7   \n",
       "3  ...           22.54            16.67             152.20        1575.0   \n",
       "4  ...           15.47            23.75             103.40         741.6   \n",
       "\n",
       "   largest Smoothness  largest Compactness  largest Concavity  \\\n",
       "0              0.1238               0.1866             0.2416   \n",
       "1              0.1444               0.4245             0.4504   \n",
       "2              0.2098               0.8663             0.6869   \n",
       "3              0.1374               0.2050             0.4000   \n",
       "4              0.1791               0.5249             0.5355   \n",
       "\n",
       "   largest Concave Points  largest Symmetry  largest Fractal Dimension  \n",
       "0                  0.1860            0.2750                    0.08902  \n",
       "1                  0.2430            0.3613                    0.08758  \n",
       "2                  0.2575            0.6638                    0.17300  \n",
       "3                  0.1625            0.2364                    0.07678  \n",
       "4                  0.1741            0.3985                    0.12440  \n",
       "\n",
       "[5 rows x 32 columns]"
      ]
     },
     "execution_count": 4,
     "metadata": {},
     "output_type": "execute_result"
    }
   ],
   "source": [
    "data.head()"
   ]
  },
  {
   "cell_type": "code",
   "execution_count": 5,
   "id": "89d5334a",
   "metadata": {},
   "outputs": [],
   "source": [
    "x = data.iloc[:, 2:].values\n",
    "y = data.iloc[:, 1].values"
   ]
  },
  {
   "cell_type": "code",
   "execution_count": 6,
   "id": "d35dff5c",
   "metadata": {},
   "outputs": [],
   "source": [
    "from sklearn.preprocessing import LabelEncoder\n",
    "le = LabelEncoder()\n",
    "y = le.fit_transform(y)"
   ]
  },
  {
   "cell_type": "code",
   "execution_count": 7,
   "id": "372ab222",
   "metadata": {},
   "outputs": [],
   "source": [
    "from sklearn.model_selection import train_test_split \n",
    "x_train, x_test, y_train, y_test = train_test_split(x,y , random_state=0,  test_size=0.2) "
   ]
  },
  {
   "cell_type": "code",
   "execution_count": 8,
   "id": "9f8915a0",
   "metadata": {},
   "outputs": [
    {
     "name": "stdout",
     "output_type": "stream",
     "text": [
      "WARNING:tensorflow:From C:\\Users\\User\\anaconda3\\Lib\\site-packages\\keras\\src\\losses.py:2976: The name tf.losses.sparse_softmax_cross_entropy is deprecated. Please use tf.compat.v1.losses.sparse_softmax_cross_entropy instead.\n",
      "\n",
      "WARNING:tensorflow:From C:\\Users\\User\\anaconda3\\Lib\\site-packages\\keras\\src\\backend.py:873: The name tf.get_default_graph is deprecated. Please use tf.compat.v1.get_default_graph instead.\n",
      "\n"
     ]
    }
   ],
   "source": [
    "import keras\n",
    "from keras.models import Sequential\n",
    "from keras.layers import Activation\n",
    "from tensorflow.keras.layers import Input, Dense\n",
    "\n",
    "model = Sequential()\n",
    "model.add(Dense(16, activation='relu', input_shape=(30,)))\n",
    "model.add(Dense(8, activation='relu'))\n",
    "model.add(Dense(1, activation='sigmoid'))"
   ]
  },
  {
   "cell_type": "code",
   "execution_count": 9,
   "id": "12b0bb66",
   "metadata": {},
   "outputs": [
    {
     "name": "stdout",
     "output_type": "stream",
     "text": [
      "WARNING:tensorflow:From C:\\Users\\User\\anaconda3\\Lib\\site-packages\\keras\\src\\optimizers\\__init__.py:309: The name tf.train.Optimizer is deprecated. Please use tf.compat.v1.train.Optimizer instead.\n",
      "\n"
     ]
    }
   ],
   "source": [
    "model.compile(loss='binary_crossentropy', optimizer='adam', metrics=['accuracy'])"
   ]
  },
  {
   "cell_type": "code",
   "execution_count": 10,
   "id": "8a67fd86",
   "metadata": {},
   "outputs": [
    {
     "name": "stdout",
     "output_type": "stream",
     "text": [
      "Epoch 1/100\n",
      "WARNING:tensorflow:From C:\\Users\\User\\anaconda3\\Lib\\site-packages\\keras\\src\\utils\\tf_utils.py:492: The name tf.ragged.RaggedTensorValue is deprecated. Please use tf.compat.v1.ragged.RaggedTensorValue instead.\n",
      "\n",
      "WARNING:tensorflow:From C:\\Users\\User\\anaconda3\\Lib\\site-packages\\keras\\src\\engine\\base_layer_utils.py:384: The name tf.executing_eagerly_outside_functions is deprecated. Please use tf.compat.v1.executing_eagerly_outside_functions instead.\n",
      "\n",
      "46/46 [==============================] - 1s 2ms/step - loss: 54.2374 - accuracy: 0.5352\n",
      "Epoch 2/100\n",
      "46/46 [==============================] - 0s 2ms/step - loss: 4.7168 - accuracy: 0.5837\n",
      "Epoch 3/100\n",
      "46/46 [==============================] - 0s 2ms/step - loss: 3.3855 - accuracy: 0.7137\n",
      "Epoch 4/100\n",
      "46/46 [==============================] - 0s 2ms/step - loss: 2.5530 - accuracy: 0.7137\n",
      "Epoch 5/100\n",
      "46/46 [==============================] - 0s 2ms/step - loss: 2.5612 - accuracy: 0.7577\n",
      "Epoch 6/100\n",
      "46/46 [==============================] - 0s 2ms/step - loss: 1.8119 - accuracy: 0.8282\n",
      "Epoch 7/100\n",
      "46/46 [==============================] - 0s 2ms/step - loss: 1.6168 - accuracy: 0.8238\n",
      "Epoch 8/100\n",
      "46/46 [==============================] - 0s 2ms/step - loss: 1.8267 - accuracy: 0.7996\n",
      "Epoch 9/100\n",
      "46/46 [==============================] - 0s 2ms/step - loss: 1.3374 - accuracy: 0.8414\n",
      "Epoch 10/100\n",
      "46/46 [==============================] - 0s 2ms/step - loss: 1.1584 - accuracy: 0.8700\n",
      "Epoch 11/100\n",
      "46/46 [==============================] - 0s 2ms/step - loss: 1.1789 - accuracy: 0.8568\n",
      "Epoch 12/100\n",
      "46/46 [==============================] - 0s 2ms/step - loss: 1.0060 - accuracy: 0.8700\n",
      "Epoch 13/100\n",
      "46/46 [==============================] - 0s 2ms/step - loss: 0.9669 - accuracy: 0.8590\n",
      "Epoch 14/100\n",
      "46/46 [==============================] - 0s 2ms/step - loss: 0.8455 - accuracy: 0.8855\n",
      "Epoch 15/100\n",
      "46/46 [==============================] - 0s 2ms/step - loss: 1.0054 - accuracy: 0.8480\n",
      "Epoch 16/100\n",
      "46/46 [==============================] - 0s 2ms/step - loss: 0.9137 - accuracy: 0.8789\n",
      "Epoch 17/100\n",
      "46/46 [==============================] - 0s 2ms/step - loss: 0.7686 - accuracy: 0.8656\n",
      "Epoch 18/100\n",
      "46/46 [==============================] - 0s 2ms/step - loss: 0.8028 - accuracy: 0.8811\n",
      "Epoch 19/100\n",
      "46/46 [==============================] - 0s 2ms/step - loss: 0.6847 - accuracy: 0.9031\n",
      "Epoch 20/100\n",
      "46/46 [==============================] - 0s 2ms/step - loss: 0.6262 - accuracy: 0.9009\n",
      "Epoch 21/100\n",
      "46/46 [==============================] - 0s 2ms/step - loss: 0.6618 - accuracy: 0.9031\n",
      "Epoch 22/100\n",
      "46/46 [==============================] - 0s 2ms/step - loss: 0.5625 - accuracy: 0.8943\n",
      "Epoch 23/100\n",
      "46/46 [==============================] - 0s 2ms/step - loss: 0.7195 - accuracy: 0.8678\n",
      "Epoch 24/100\n",
      "46/46 [==============================] - 0s 2ms/step - loss: 0.6068 - accuracy: 0.8987\n",
      "Epoch 25/100\n",
      "46/46 [==============================] - 0s 2ms/step - loss: 0.6432 - accuracy: 0.8877\n",
      "Epoch 26/100\n",
      "46/46 [==============================] - 0s 2ms/step - loss: 0.6009 - accuracy: 0.9009\n",
      "Epoch 27/100\n",
      "46/46 [==============================] - 0s 2ms/step - loss: 0.6236 - accuracy: 0.8855\n",
      "Epoch 28/100\n",
      "46/46 [==============================] - 0s 2ms/step - loss: 0.4303 - accuracy: 0.8965\n",
      "Epoch 29/100\n",
      "46/46 [==============================] - 0s 2ms/step - loss: 0.3934 - accuracy: 0.9053\n",
      "Epoch 30/100\n",
      "46/46 [==============================] - 0s 2ms/step - loss: 0.4454 - accuracy: 0.8987\n",
      "Epoch 31/100\n",
      "46/46 [==============================] - 0s 2ms/step - loss: 0.5473 - accuracy: 0.8921\n",
      "Epoch 32/100\n",
      "46/46 [==============================] - 0s 2ms/step - loss: 0.4901 - accuracy: 0.9031\n",
      "Epoch 33/100\n",
      "46/46 [==============================] - 0s 2ms/step - loss: 0.3374 - accuracy: 0.9141\n",
      "Epoch 34/100\n",
      "46/46 [==============================] - 0s 1ms/step - loss: 0.4496 - accuracy: 0.8877\n",
      "Epoch 35/100\n",
      "46/46 [==============================] - 0s 1ms/step - loss: 0.3220 - accuracy: 0.9229\n",
      "Epoch 36/100\n",
      "46/46 [==============================] - 0s 2ms/step - loss: 0.3376 - accuracy: 0.9163\n",
      "Epoch 37/100\n",
      "46/46 [==============================] - 0s 2ms/step - loss: 0.3894 - accuracy: 0.8921\n",
      "Epoch 38/100\n",
      "46/46 [==============================] - 0s 2ms/step - loss: 0.4132 - accuracy: 0.8811\n",
      "Epoch 39/100\n",
      "46/46 [==============================] - 0s 2ms/step - loss: 0.2979 - accuracy: 0.9163\n",
      "Epoch 40/100\n",
      "46/46 [==============================] - 0s 1ms/step - loss: 0.4923 - accuracy: 0.9009\n",
      "Epoch 41/100\n",
      "46/46 [==============================] - 0s 1ms/step - loss: 0.4389 - accuracy: 0.9009\n",
      "Epoch 42/100\n",
      "46/46 [==============================] - 0s 2ms/step - loss: 0.2819 - accuracy: 0.9229\n",
      "Epoch 43/100\n",
      "46/46 [==============================] - 0s 2ms/step - loss: 0.3661 - accuracy: 0.8899\n",
      "Epoch 44/100\n",
      "46/46 [==============================] - 0s 2ms/step - loss: 0.5074 - accuracy: 0.8943\n",
      "Epoch 45/100\n",
      "46/46 [==============================] - 0s 2ms/step - loss: 0.2674 - accuracy: 0.9273\n",
      "Epoch 46/100\n",
      "46/46 [==============================] - 0s 1ms/step - loss: 0.3488 - accuracy: 0.8987\n",
      "Epoch 47/100\n",
      "46/46 [==============================] - 0s 1ms/step - loss: 0.4115 - accuracy: 0.9009\n",
      "Epoch 48/100\n",
      "46/46 [==============================] - 0s 2ms/step - loss: 0.2912 - accuracy: 0.9119\n",
      "Epoch 49/100\n",
      "46/46 [==============================] - 0s 1ms/step - loss: 0.2214 - accuracy: 0.9273\n",
      "Epoch 50/100\n",
      "46/46 [==============================] - 0s 2ms/step - loss: 0.2472 - accuracy: 0.9141\n",
      "Epoch 51/100\n",
      "46/46 [==============================] - 0s 2ms/step - loss: 0.3742 - accuracy: 0.8965\n",
      "Epoch 52/100\n",
      "46/46 [==============================] - 0s 2ms/step - loss: 0.2750 - accuracy: 0.9163\n",
      "Epoch 53/100\n",
      "46/46 [==============================] - 0s 2ms/step - loss: 0.3110 - accuracy: 0.9207\n",
      "Epoch 54/100\n",
      "46/46 [==============================] - 0s 2ms/step - loss: 0.4573 - accuracy: 0.8855\n",
      "Epoch 55/100\n",
      "46/46 [==============================] - 0s 1ms/step - loss: 0.4709 - accuracy: 0.8722\n",
      "Epoch 56/100\n",
      "46/46 [==============================] - 0s 2ms/step - loss: 0.5273 - accuracy: 0.8744\n",
      "Epoch 57/100\n",
      "46/46 [==============================] - 0s 2ms/step - loss: 0.5721 - accuracy: 0.8767\n",
      "Epoch 58/100\n",
      "46/46 [==============================] - 0s 2ms/step - loss: 0.3397 - accuracy: 0.9251\n",
      "Epoch 59/100\n",
      "46/46 [==============================] - 0s 2ms/step - loss: 0.3302 - accuracy: 0.9207\n",
      "Epoch 60/100\n",
      "46/46 [==============================] - 0s 2ms/step - loss: 0.2858 - accuracy: 0.9097\n",
      "Epoch 61/100\n",
      "46/46 [==============================] - 0s 2ms/step - loss: 0.2790 - accuracy: 0.9075\n",
      "Epoch 62/100\n",
      "46/46 [==============================] - 0s 2ms/step - loss: 0.3824 - accuracy: 0.8877\n",
      "Epoch 63/100\n",
      "46/46 [==============================] - 0s 2ms/step - loss: 0.3014 - accuracy: 0.9163\n",
      "Epoch 64/100\n",
      "46/46 [==============================] - 0s 2ms/step - loss: 0.3632 - accuracy: 0.9075\n",
      "Epoch 65/100\n",
      "46/46 [==============================] - 0s 2ms/step - loss: 0.3052 - accuracy: 0.9251\n",
      "Epoch 66/100\n",
      "46/46 [==============================] - 0s 2ms/step - loss: 0.2916 - accuracy: 0.9185\n",
      "Epoch 67/100\n",
      "46/46 [==============================] - 0s 2ms/step - loss: 0.2353 - accuracy: 0.9339\n",
      "Epoch 68/100\n",
      "46/46 [==============================] - 0s 1ms/step - loss: 0.4125 - accuracy: 0.8921\n",
      "Epoch 69/100\n",
      "46/46 [==============================] - 0s 2ms/step - loss: 0.2849 - accuracy: 0.9163\n",
      "Epoch 70/100\n",
      "46/46 [==============================] - 0s 1ms/step - loss: 0.2545 - accuracy: 0.9251\n",
      "Epoch 71/100\n",
      "46/46 [==============================] - 0s 1ms/step - loss: 0.2327 - accuracy: 0.9317\n",
      "Epoch 72/100\n",
      "46/46 [==============================] - 0s 2ms/step - loss: 0.3268 - accuracy: 0.9075\n",
      "Epoch 73/100\n",
      "46/46 [==============================] - 0s 1ms/step - loss: 0.5020 - accuracy: 0.8789\n",
      "Epoch 74/100\n",
      "46/46 [==============================] - 0s 1ms/step - loss: 0.4490 - accuracy: 0.8987\n",
      "Epoch 75/100\n",
      "46/46 [==============================] - 0s 1ms/step - loss: 0.2578 - accuracy: 0.9251\n",
      "Epoch 76/100\n",
      "46/46 [==============================] - 0s 1ms/step - loss: 0.2779 - accuracy: 0.9207\n",
      "Epoch 77/100\n",
      "46/46 [==============================] - 0s 1ms/step - loss: 0.2596 - accuracy: 0.9185\n",
      "Epoch 78/100\n"
     ]
    },
    {
     "name": "stdout",
     "output_type": "stream",
     "text": [
      "46/46 [==============================] - 0s 2ms/step - loss: 0.2558 - accuracy: 0.9163\n",
      "Epoch 79/100\n",
      "46/46 [==============================] - 0s 2ms/step - loss: 0.2940 - accuracy: 0.9141\n",
      "Epoch 80/100\n",
      "46/46 [==============================] - 0s 3ms/step - loss: 0.2663 - accuracy: 0.9163\n",
      "Epoch 81/100\n",
      "46/46 [==============================] - 0s 2ms/step - loss: 0.2184 - accuracy: 0.9339\n",
      "Epoch 82/100\n",
      "46/46 [==============================] - 0s 2ms/step - loss: 0.1749 - accuracy: 0.9427\n",
      "Epoch 83/100\n",
      "46/46 [==============================] - 0s 2ms/step - loss: 0.1853 - accuracy: 0.9273\n",
      "Epoch 84/100\n",
      "46/46 [==============================] - 0s 1ms/step - loss: 0.2078 - accuracy: 0.9317\n",
      "Epoch 85/100\n",
      "46/46 [==============================] - 0s 1ms/step - loss: 0.2595 - accuracy: 0.9185\n",
      "Epoch 86/100\n",
      "46/46 [==============================] - 0s 1ms/step - loss: 0.3547 - accuracy: 0.8855\n",
      "Epoch 87/100\n",
      "46/46 [==============================] - 0s 2ms/step - loss: 0.3054 - accuracy: 0.9097\n",
      "Epoch 88/100\n",
      "46/46 [==============================] - 0s 2ms/step - loss: 0.2699 - accuracy: 0.9185\n",
      "Epoch 89/100\n",
      "46/46 [==============================] - 0s 2ms/step - loss: 0.2458 - accuracy: 0.9207\n",
      "Epoch 90/100\n",
      "46/46 [==============================] - 0s 2ms/step - loss: 0.6138 - accuracy: 0.8524\n",
      "Epoch 91/100\n",
      "46/46 [==============================] - 0s 1ms/step - loss: 0.2196 - accuracy: 0.9251\n",
      "Epoch 92/100\n",
      "46/46 [==============================] - 0s 2ms/step - loss: 0.2150 - accuracy: 0.9229\n",
      "Epoch 93/100\n",
      "46/46 [==============================] - 0s 1ms/step - loss: 0.1609 - accuracy: 0.9515\n",
      "Epoch 94/100\n",
      "46/46 [==============================] - 0s 1ms/step - loss: 0.2544 - accuracy: 0.9185\n",
      "Epoch 95/100\n",
      "46/46 [==============================] - 0s 1ms/step - loss: 0.1818 - accuracy: 0.9339\n",
      "Epoch 96/100\n",
      "46/46 [==============================] - 0s 1ms/step - loss: 0.1554 - accuracy: 0.9493\n",
      "Epoch 97/100\n",
      "46/46 [==============================] - 0s 1ms/step - loss: 0.1679 - accuracy: 0.9273\n",
      "Epoch 98/100\n",
      "46/46 [==============================] - 0s 2ms/step - loss: 0.1588 - accuracy: 0.9383\n",
      "Epoch 99/100\n",
      "46/46 [==============================] - 0s 2ms/step - loss: 0.2302 - accuracy: 0.9361\n",
      "Epoch 100/100\n",
      "46/46 [==============================] - 0s 1ms/step - loss: 0.2223 - accuracy: 0.9097\n"
     ]
    },
    {
     "data": {
      "text/plain": [
       "<keras.src.callbacks.History at 0x27606e08d10>"
      ]
     },
     "execution_count": 10,
     "metadata": {},
     "output_type": "execute_result"
    }
   ],
   "source": [
    "model.fit(x_train, y_train, epochs=100, batch_size=10)"
   ]
  },
  {
   "cell_type": "code",
   "execution_count": 11,
   "id": "a0818a07",
   "metadata": {},
   "outputs": [
    {
     "name": "stdout",
     "output_type": "stream",
     "text": [
      "4/4 [==============================] - 0s 2ms/step\n"
     ]
    }
   ],
   "source": [
    "pred = model.predict(x_test)"
   ]
  },
  {
   "cell_type": "code",
   "execution_count": 12,
   "id": "5bd695e6",
   "metadata": {},
   "outputs": [],
   "source": [
    "binary_pred = (pred > 0.5).astype(int)"
   ]
  },
  {
   "cell_type": "code",
   "execution_count": 13,
   "id": "4ec13fe9",
   "metadata": {
    "scrolled": true
   },
   "outputs": [
    {
     "name": "stdout",
     "output_type": "stream",
     "text": [
      "[[61 10]\n",
      " [ 2 41]]\n"
     ]
    }
   ],
   "source": [
    "from sklearn.metrics import confusion_matrix\n",
    "cm = confusion_matrix(y_test,binary_pred)\n",
    "print(cm)"
   ]
  },
  {
   "cell_type": "code",
   "execution_count": 14,
   "id": "189a6b31",
   "metadata": {},
   "outputs": [
    {
     "data": {
      "text/plain": [
       "<Axes: >"
      ]
     },
     "execution_count": 14,
     "metadata": {},
     "output_type": "execute_result"
    },
    {
     "data": {
      "image/png": "[encoded data removed]",
      "text/plain": [
       "<Figure size 640x480 with 2 Axes>"
      ]
     },
     "metadata": {},
     "output_type": "display_data"
    }
   ],
   "source": [
    "import seaborn as sns\n",
    "sns.heatmap(cm, annot = True)"
   ]
  },
  {
   "cell_type": "code",
   "execution_count": 15,
   "id": "90173a98",
   "metadata": {},
   "outputs": [
    {
     "name": "stdout",
     "output_type": "stream",
     "text": [
      "Accuracy :  0.8947368421052632\n"
     ]
    }
   ],
   "source": [
    "acc = (cm[0][0] + cm[1][1])/(cm[0][0] + cm[0][1] + cm[1][0] +cm[1][1])\n",
    "print(\"Accuracy : \",acc)"
   ]
  },
  {
   "cell_type": "code",
   "execution_count": 16,
   "id": "e731a366",
   "metadata": {},
   "outputs": [],
   "source": [
    "def predict_cancer (features):\n",
    "    features_array = np.array(features). reshape(1, -1)\n",
    "    print(features_array)\n",
    "    if pred[0][0] >= 0.5:\n",
    "        return \"Malignant\"\n",
    "    else:\n",
    "        return \"Benign\""
   ]
  },
  {
   "cell_type": "code",
   "execution_count": 17,
   "id": "78f2c401",
   "metadata": {},
   "outputs": [
    {
     "name": "stdout",
     "output_type": "stream",
     "text": [
      "[['11.41' '10.82' '73.34' '403.3' '0.09373' '0.06685' '0.03512' '0.02623'\n",
      "  '0.1667' '0.06113' '0.1408' '0.4607' '1.103' '10.5' '0.00604' '0.01529'\n",
      "  '0.01514' '0.00646' '0.01344' '0.002206' '12.82' '15.97' '83.74'\n",
      "  '510.5' '0.1548' '0.239' '0.2102' '0.08958' '0.3016' '0.08523']]\n",
      "Prediction :  Malignant\n"
     ]
    }
   ],
   "source": [
    "new_data = [\"11.41\",\"10.82\",\"73.34\",\"403.3\",\"0.09373\",\"0.06685\",\"0.03512\",\"0.02623\",\"0.1667\",\"0.06113\",\"0.1408\",\"0.4607\",\"1.103\",\"10.5\",\"0.00604\",\"0.01529\",\"0.01514\",\"0.00646\",\"0.01344\",\"0.002206\",\"12.82\",\"15.97\",\"83.74\",\"510.5\",\"0.1548\",\"0.239\",\"0.2102\",\"0.08958\",\"0.3016\",\"0.08523\"]\n",
    "predict = predict_cancer(new_data)\n",
    "print(\"Prediction : \",predict)"
   ]
  }
 ],
 "metadata": {
  "kernelspec": {
   "display_name": "Python 3 (ipykernel)",
   "language": "python",
   "name": "python3"
  },
  "language_info": {
   "codemirror_mode": {
    "name": "ipython",
    "version": 3
   },
   "file_extension": ".py",
   "mimetype": "text/x-python",
   "name": "python",
   "nbconvert_exporter": "python",
   "pygments_lexer": "ipython3",
   "version": "3.11.5"
  }
 },
 "nbformat": 4,
 "nbformat_minor": 5
}
